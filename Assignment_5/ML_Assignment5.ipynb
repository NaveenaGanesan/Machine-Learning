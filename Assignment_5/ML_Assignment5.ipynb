{
  "cells": [
    {
      "cell_type": "markdown",
      "metadata": {
        "id": "jBoj-vEV6W_1"
      },
      "source": [
        "**a.i. Depression Classification**"
      ]
    },
    {
      "cell_type": "code",
      "execution_count": 1,
      "metadata": {
        "id": "FN-5SAM_5UMY"
      },
      "outputs": [],
      "source": [
        "#import necessary libraries\n",
        "import pandas as pd\n",
        "import numpy as np\n",
        "import matplotlib.pyplot as plt\n",
        "import seaborn as sns\n",
        "\n",
        "from sklearn.ensemble import RandomForestClassifier\n",
        "from sklearn.metrics import accuracy_score, balanced_accuracy_score"
      ]
    },
    {
      "cell_type": "markdown",
      "metadata": {
        "id": "MQXfs6oG62HN"
      },
      "source": [
        "**Cleaning**"
      ]
    },
    {
      "cell_type": "code",
      "execution_count": 2,
      "metadata": {
        "id": "7MkXjduX6QkP"
      },
      "outputs": [],
      "source": [
        "#Function to clean the data\n",
        "def data_cleaning(file_path):\n",
        "    df = pd.read_csv(file_path, index_col=0)\n",
        "    df.dropna(inplace=True)\n",
        "\n",
        "    return df"
      ]
    },
    {
      "cell_type": "code",
      "execution_count": 3,
      "metadata": {
        "id": "RxzTJqD16TKK"
      },
      "outputs": [],
      "source": [
        "train_file = \"/content/sample_data/final_training_data.csv\"\n",
        "test_file = \"/content/sample_data/final_testing_data.csv\"\n",
        "\n",
        "# train_file = \"../Datasets/ADS/final_training_data.csv\"\n",
        "# test_file = \"../Datasets/ADS/final_testing_data.csv\"\n",
        "\n",
        "#After data exploring we found that one of the data sample's turn was all NA. So we removed it\n",
        "train_data_source = data_cleaning(train_file)\n",
        "test_data = data_cleaning(test_file)"
      ]
    },
    {
      "cell_type": "markdown",
      "metadata": {
        "id": "vEIMnsCR66rz"
      },
      "source": [
        "**Training**"
      ]
    },
    {
      "cell_type": "code",
      "execution_count": 17,
      "metadata": {
        "id": "dvIxCbXh6_RI"
      },
      "outputs": [],
      "source": [
        "from sklearn.model_selection import train_test_split\n",
        "\n",
        "#Select the features and target variables from the train set\n",
        "X_tr = train_data_source.drop(['Depression', 'Gender', 'participant_id'], axis=1)\n",
        "y_tr = train_data_source['Depression']\n",
        "feature_names = X_tr.columns\n",
        "\n",
        "#Normalize the data using standard scaler\n",
        "from sklearn.preprocessing import StandardScaler\n",
        "scaler = StandardScaler()\n",
        "X_tr_scaled = scaler.fit_transform(X_tr)\n",
        "\n",
        "#Split the data into training and validation set\n",
        "X_train, X_val, y_train, y_val = train_test_split(X_tr_scaled, y_tr, test_size=0.2, random_state=42)\n"
      ]
    },
    {
      "cell_type": "code",
      "execution_count": 18,
      "metadata": {
        "colab": {
          "base_uri": "https://localhost:8080/"
        },
        "id": "AF2ka3ca7BkA",
        "outputId": "245f94f5-fd82-4338-bb06-5dd248bcbd8c"
      },
      "outputs": [
        {
          "name": "stdout",
          "output_type": "stream",
          "text": [
            "(10900, 88) (2725, 88) (10900,) (2725,)\n"
          ]
        }
      ],
      "source": [
        "print(X_train.shape, X_val.shape, y_train.shape, y_val.shape)"
      ]
    },
    {
      "cell_type": "code",
      "execution_count": null,
      "metadata": {
        "id": "rmeW6xVb7FOs"
      },
      "outputs": [],
      "source": [
        "from sklearn.ensemble import RandomForestClassifier\n",
        "from sklearn.model_selection import GridSearchCV\n",
        "from sklearn.metrics import accuracy_score\n",
        "\n",
        "param_grid = {\n",
        "    'n_estimators': [100, 200, 300],  # Number of trees in the forest\n",
        "    'max_features': ['sqrt', 'log2'],  # Number of features to consider at every split\n",
        "    'max_depth': [None, 20, 40],  # Maximum number of levels in tree\n",
        "    'min_samples_split': [5, 10]  # Minimum number of samples required to split a node\n",
        "}\n",
        "\n",
        "#Initialize the classifier\n",
        "rf = RandomForestClassifier(random_state=42)\n",
        "\n",
        "#Setup the grid search with 5-fold cross-validation\n",
        "grid_search = GridSearchCV(estimator=rf, param_grid=param_grid, cv=3, scoring='accuracy', verbose=1)\n",
        "\n",
        "#Fit grid_search to the data\n",
        "grid_search.fit(X_train, y_train)\n",
        "\n",
        "\n",
        "#Best parameters\n",
        "best_params = grid_search.best_params_\n",
        "print(\"Best parameters:\", best_params)\n",
        "\n",
        "#Best model from grid search\n",
        "best_rf = grid_search.best_estimator_\n",
        "\n",
        "#Predict on the validation set\n",
        "y_pred = best_rf.predict(X_val)\n",
        "\n",
        "#Calculate accuracy\n",
        "accuracy = accuracy_score(y_val, y_pred)\n",
        "print(\"Validation Accuracy:\", accuracy)"
      ]
    },
    {
      "cell_type": "code",
      "execution_count": 20,
      "metadata": {
        "colab": {
          "base_uri": "https://localhost:8080/",
          "height": 75
        },
        "id": "Yjl3lQuu7HWT",
        "outputId": "5e427834-13ef-40b0-a08d-4f2212559c26"
      },
      "outputs": [
        {
          "data": {
            "text/html": [
              "<style>#sk-container-id-2 {color: black;background-color: white;}#sk-container-id-2 pre{padding: 0;}#sk-container-id-2 div.sk-toggleable {background-color: white;}#sk-container-id-2 label.sk-toggleable__label {cursor: pointer;display: block;width: 100%;margin-bottom: 0;padding: 0.3em;box-sizing: border-box;text-align: center;}#sk-container-id-2 label.sk-toggleable__label-arrow:before {content: \"▸\";float: left;margin-right: 0.25em;color: #696969;}#sk-container-id-2 label.sk-toggleable__label-arrow:hover:before {color: black;}#sk-container-id-2 div.sk-estimator:hover label.sk-toggleable__label-arrow:before {color: black;}#sk-container-id-2 div.sk-toggleable__content {max-height: 0;max-width: 0;overflow: hidden;text-align: left;background-color: #f0f8ff;}#sk-container-id-2 div.sk-toggleable__content pre {margin: 0.2em;color: black;border-radius: 0.25em;background-color: #f0f8ff;}#sk-container-id-2 input.sk-toggleable__control:checked~div.sk-toggleable__content {max-height: 200px;max-width: 100%;overflow: auto;}#sk-container-id-2 input.sk-toggleable__control:checked~label.sk-toggleable__label-arrow:before {content: \"▾\";}#sk-container-id-2 div.sk-estimator input.sk-toggleable__control:checked~label.sk-toggleable__label {background-color: #d4ebff;}#sk-container-id-2 div.sk-label input.sk-toggleable__control:checked~label.sk-toggleable__label {background-color: #d4ebff;}#sk-container-id-2 input.sk-hidden--visually {border: 0;clip: rect(1px 1px 1px 1px);clip: rect(1px, 1px, 1px, 1px);height: 1px;margin: -1px;overflow: hidden;padding: 0;position: absolute;width: 1px;}#sk-container-id-2 div.sk-estimator {font-family: monospace;background-color: #f0f8ff;border: 1px dotted black;border-radius: 0.25em;box-sizing: border-box;margin-bottom: 0.5em;}#sk-container-id-2 div.sk-estimator:hover {background-color: #d4ebff;}#sk-container-id-2 div.sk-parallel-item::after {content: \"\";width: 100%;border-bottom: 1px solid gray;flex-grow: 1;}#sk-container-id-2 div.sk-label:hover label.sk-toggleable__label {background-color: #d4ebff;}#sk-container-id-2 div.sk-serial::before {content: \"\";position: absolute;border-left: 1px solid gray;box-sizing: border-box;top: 0;bottom: 0;left: 50%;z-index: 0;}#sk-container-id-2 div.sk-serial {display: flex;flex-direction: column;align-items: center;background-color: white;padding-right: 0.2em;padding-left: 0.2em;position: relative;}#sk-container-id-2 div.sk-item {position: relative;z-index: 1;}#sk-container-id-2 div.sk-parallel {display: flex;align-items: stretch;justify-content: center;background-color: white;position: relative;}#sk-container-id-2 div.sk-item::before, #sk-container-id-2 div.sk-parallel-item::before {content: \"\";position: absolute;border-left: 1px solid gray;box-sizing: border-box;top: 0;bottom: 0;left: 50%;z-index: -1;}#sk-container-id-2 div.sk-parallel-item {display: flex;flex-direction: column;z-index: 1;position: relative;background-color: white;}#sk-container-id-2 div.sk-parallel-item:first-child::after {align-self: flex-end;width: 50%;}#sk-container-id-2 div.sk-parallel-item:last-child::after {align-self: flex-start;width: 50%;}#sk-container-id-2 div.sk-parallel-item:only-child::after {width: 0;}#sk-container-id-2 div.sk-dashed-wrapped {border: 1px dashed gray;margin: 0 0.4em 0.5em 0.4em;box-sizing: border-box;padding-bottom: 0.4em;background-color: white;}#sk-container-id-2 div.sk-label label {font-family: monospace;font-weight: bold;display: inline-block;line-height: 1.2em;}#sk-container-id-2 div.sk-label-container {text-align: center;}#sk-container-id-2 div.sk-container {/* jupyter's `normalize.less` sets `[hidden] { display: none; }` but bootstrap.min.css set `[hidden] { display: none !important; }` so we also need the `!important` here to be able to override the default hidden behavior on the sphinx rendered scikit-learn.org. See: https://github.com/scikit-learn/scikit-learn/issues/21755 */display: inline-block !important;position: relative;}#sk-container-id-2 div.sk-text-repr-fallback {display: none;}</style><div id=\"sk-container-id-2\" class=\"sk-top-container\"><div class=\"sk-text-repr-fallback\"><pre>RandomForestClassifier(min_samples_split=5, n_estimators=300, random_state=42)</pre><b>In a Jupyter environment, please rerun this cell to show the HTML representation or trust the notebook. <br />On GitHub, the HTML representation is unable to render, please try loading this page with nbviewer.org.</b></div><div class=\"sk-container\" hidden><div class=\"sk-item\"><div class=\"sk-estimator sk-toggleable\"><input class=\"sk-toggleable__control sk-hidden--visually\" id=\"sk-estimator-id-2\" type=\"checkbox\" checked><label for=\"sk-estimator-id-2\" class=\"sk-toggleable__label sk-toggleable__label-arrow\">RandomForestClassifier</label><div class=\"sk-toggleable__content\"><pre>RandomForestClassifier(min_samples_split=5, n_estimators=300, random_state=42)</pre></div></div></div></div></div>"
            ],
            "text/plain": [
              "RandomForestClassifier(min_samples_split=5, n_estimators=300, random_state=42)"
            ]
          },
          "execution_count": 20,
          "metadata": {},
          "output_type": "execute_result"
        }
      ],
      "source": [
        "rf_best = RandomForestClassifier(max_depth=None, max_features= 'sqrt', min_samples_split= 5,\n",
        "                                    n_estimators=300, random_state=42)\n",
        "rf_best.fit(X_train, y_train)"
      ]
    },
    {
      "cell_type": "markdown",
      "metadata": {
        "id": "hTMjevwR7KWx"
      },
      "source": [
        "**Performing predictions on the test data**"
      ]
    },
    {
      "cell_type": "code",
      "execution_count": 21,
      "metadata": {
        "id": "pCyTqBv27SvI"
      },
      "outputs": [],
      "source": [
        "#Function to aggregate turn-based decisions at the participant level\n",
        "def aggregate_decisions(decisions):\n",
        "    return int(decisions.mean() >= 0.5)"
      ]
    },
    {
      "cell_type": "code",
      "execution_count": 22,
      "metadata": {
        "id": "A56Aq-l17UnF"
      },
      "outputs": [],
      "source": [
        "#Select the features and target variables from the test set\n",
        "X_test = test_data.drop(['Depression', 'Gender', 'participant_id'], axis=1)\n",
        "y_test = test_data['Depression']\n",
        "\n",
        "#Normalize the test data using the scaler fitted on the training data\n",
        "X_test = scaler.transform(X_test)\n",
        "\n",
        "#Make predictions on the test set\n",
        "y_pred_test = rf_best.predict(X_test)"
      ]
    },
    {
      "cell_type": "code",
      "execution_count": 23,
      "metadata": {
        "id": "GXIT82MP7Xaj"
      },
      "outputs": [],
      "source": [
        "'''\n",
        "Aggregrate predictions on a participant level\n",
        "'''\n",
        "#Get the participant IDs and genders for the test set\n",
        "participant_ids_test = test_data['participant_id']\n",
        "genders_test = test_data['Gender']\n",
        "\n",
        "#Aggregate the predictions at the participant level\n",
        "def aggregate_predictions(y_pred_test):\n",
        "  participant_preds_test = {} #Have turns predictions for each participant\n",
        "  for participant_id, pred in zip(participant_ids_test, y_pred_test):\n",
        "      if participant_id not in participant_preds_test:\n",
        "          participant_preds_test[participant_id] = []\n",
        "      participant_preds_test[participant_id].append(pred)\n",
        "\n",
        "  participant_final_preds_test = {} #Store aggregrated results\n",
        "  for participant_id, preds in participant_preds_test.items():\n",
        "      participant_final_preds_test[participant_id] = aggregate_decisions(pd.Series(preds))\n",
        "  return participant_final_preds_test"
      ]
    },
    {
      "cell_type": "code",
      "execution_count": 24,
      "metadata": {
        "id": "QJyGTP307ZZD"
      },
      "outputs": [],
      "source": [
        "#Evaluate the predictions against the true labels\n",
        "participant_final_preds_test = aggregate_predictions(y_pred_test)\n",
        "y_true_test = y_test.groupby(participant_ids_test).mean().round().astype(int)\n",
        "y_pred_final_test = pd.Series(participant_final_preds_test)"
      ]
    },
    {
      "cell_type": "code",
      "execution_count": 31,
      "metadata": {
        "id": "QIztKEO27bov"
      },
      "outputs": [],
      "source": [
        "#Calculate accuracy and balanced accuracy\n",
        "accuracy_test = accuracy_score(y_true_test, y_pred_final_test)\n",
        "balanced_accuracy_test = balanced_accuracy_score(y_true_test, y_pred_final_test)\n",
        "\n",
        "#Calculate equality of opportunity (EO) for the test set\n",
        "def calculate_tpr(y_true_test, y_pred_final_test):\n",
        "  genders_test_aggregated = genders_test.groupby(participant_ids_test).first()\n",
        "  male_mask_test = (genders_test_aggregated == 1)\n",
        "  female_mask_test = (genders_test_aggregated == 0)\n",
        "\n",
        "  tpr_male_test = accuracy_score(y_true_test[male_mask_test], y_pred_final_test[male_mask_test])\n",
        "  tpr_female_test = accuracy_score(y_true_test[female_mask_test], y_pred_final_test[female_mask_test])\n",
        "\n",
        "  return [male_mask_test, female_mask_test, tpr_male_test, tpr_female_test]\n",
        "\n",
        "mask_and_tpr = calculate_tpr(y_true_test, y_pred_final_test)\n",
        "male_mask_test, female_mask_test, tpr_male_test, tpr_female_test = mask_and_tpr[0], mask_and_tpr[1], mask_and_tpr[2], mask_and_tpr[3]\n",
        "eo_test = 1 - abs(tpr_male_test - tpr_female_test)"
      ]
    },
    {
      "cell_type": "code",
      "execution_count": 32,
      "metadata": {
        "colab": {
          "base_uri": "https://localhost:8080/"
        },
        "id": "8nrTkTS_7eHG",
        "outputId": "a7390c44-bf03-4d45-fb00-175cd0da4e53"
      },
      "outputs": [
        {
          "name": "stdout",
          "output_type": "stream",
          "text": [
            "Test Accuracy: 0.65\n",
            "Test Balanced Accuracy: 0.464\n",
            "Test Equality of Opportunity (EO): 0.542\n",
            "Male Accuracy: 0.833\n",
            "Female Accuracy: 0.375\n",
            "Male Balanced Accuracy: 0.455\n",
            "Female Balanced Accuracy: 0.5\n"
          ]
        }
      ],
      "source": [
        "#Print the evaluation metrics for the test set\n",
        "print(\"Test Accuracy:\", accuracy_test)\n",
        "print(\"Test Balanced Accuracy:\", round(balanced_accuracy_test,3))\n",
        "print(\"Test Equality of Opportunity (EO):\", round(eo_test,3))\n",
        "\n",
        "#Print the evaluation metrics for male and female participants separately\n",
        "print(\"Male Accuracy:\", round(tpr_male_test,3))\n",
        "print(\"Female Accuracy:\", round(tpr_female_test,3))\n",
        "print(\"Male Balanced Accuracy:\", round(balanced_accuracy_score(y_true_test[male_mask_test], y_pred_final_test[male_mask_test]),3))\n",
        "print(\"Female Balanced Accuracy:\", balanced_accuracy_score(y_true_test[female_mask_test], y_pred_final_test[female_mask_test]))"
      ]
    },
    {
      "cell_type": "markdown",
      "metadata": {
        "id": "w4MXX51G_3t-"
      },
      "source": [
        "**Feature Selection**"
      ]
    },
    {
      "cell_type": "code",
      "execution_count": 27,
      "metadata": {
        "id": "D-Bp3WbR_1Rp"
      },
      "outputs": [],
      "source": [
        "#Feature selection using mutual information\n",
        "\n",
        "from sklearn.feature_selection import mutual_info_classif\n",
        "from sklearn.metrics import accuracy_score, confusion_matrix\n",
        "\n",
        "info = mutual_info_classif(X_train, y_train)\n",
        "features_ranked = feature_names[np.argsort(-info)]"
      ]
    },
    {
      "cell_type": "code",
      "execution_count": 33,
      "metadata": {
        "colab": {
          "base_uri": "https://localhost:8080/"
        },
        "id": "-S6N28flFxdu",
        "outputId": "40485c56-9827-4e60-edd8-c3c387ee0dd7"
      },
      "outputs": [
        {
          "name": "stdout",
          "output_type": "stream",
          "text": [
            "Index(['loudness_sma3_pctlrange0-2', 'equivalentSoundLevel_dBp',\n",
            "       'loudness_sma3_percentile80.0', 'loudness_sma3_amean',\n",
            "       'F0semitoneFrom27.5Hz_sma3nz_percentile20.0',\n",
            "       'F0semitoneFrom27.5Hz_sma3nz_percentile50.0',\n",
            "       'spectralFluxV_sma3nz_amean',\n",
            "       'F0semitoneFrom27.5Hz_sma3nz_percentile80.0',\n",
            "       'loudness_sma3_meanFallingSlope', 'loudness_sma3_meanRisingSlope',\n",
            "       'mfcc2_sma3_stddevNorm', 'loudness_sma3_percentile50.0',\n",
            "       'F0semitoneFrom27.5Hz_sma3nz_amean', 'spectralFlux_sma3_amean',\n",
            "       'slopeV500-1500_sma3nz_stddevNorm', 'mfcc2V_sma3nz_amean',\n",
            "       'F2frequency_sma3nz_amean', 'mfcc3V_sma3nz_stddevNorm',\n",
            "       'shimmerLocaldB_sma3nz_amean', 'logRelF0-H1-A3_sma3nz_amean'],\n",
            "      dtype='object')\n"
          ]
        }
      ],
      "source": [
        "selected_features = features_ranked[:20]\n",
        "print(selected_features)"
      ]
    },
    {
      "cell_type": "code",
      "execution_count": 38,
      "metadata": {
        "id": "wDn3EPiaDhvk"
      },
      "outputs": [],
      "source": [
        "def aggregate_predictions(predictions, ids, genders):\n",
        "    df = pd.DataFrame({'id': ids, 'prediction': predictions, 'gender': genders})\n",
        "    df_aggregated = df.groupby('id').agg(\n",
        "        prediction=('prediction', lambda x: np.round(x.mean()).astype(int)),\n",
        "        gender=('gender', 'first')\n",
        "    )\n",
        "    return df_aggregated\n",
        "\n",
        "def evaluate_metrics(y_true, y_pred):\n",
        "    accuracy = accuracy_score(y_true, y_pred)\n",
        "    cm = confusion_matrix(y_true, y_pred, labels=[0,1])\n",
        "    ba = 0.5 * (cm[0, 0] / cm[0,:].sum() + cm[1, 1] / cm[1,:].sum())\n",
        "    return accuracy, ba"
      ]
    },
    {
      "cell_type": "code",
      "execution_count": 41,
      "metadata": {
        "colab": {
          "base_uri": "https://localhost:8080/"
        },
        "id": "LPZcN1cHC7ko",
        "outputId": "27ae3205-8f68-4724-8a29-9d65f2d5b77a"
      },
      "outputs": [
        {
          "name": "stdout",
          "output_type": "stream",
          "text": [
            "No of features: 10 ; acc: 0.6 ; ba: 0.429, eo:0.625\n",
            "No of features: 15 ; acc: 0.65 ; ba: 0.464, eo:0.542\n",
            "No of features: 20 ; acc: 0.65 ; ba: 0.464, eo:0.542\n",
            "No of features: 25 ; acc: 0.65 ; ba: 0.464, eo:0.542\n",
            "No of features: 30 ; acc: 0.65 ; ba: 0.464, eo:0.542\n",
            "No of features: 35 ; acc: 0.65 ; ba: 0.464, eo:0.542\n",
            "No of features: 40 ; acc: 0.65 ; ba: 0.464, eo:0.542\n",
            "No of features: 45 ; acc: 0.65 ; ba: 0.464, eo:0.542\n",
            "No of features: 50 ; acc: 0.65 ; ba: 0.464, eo:0.542\n",
            "No of features: 88 ; acc: 0.65 ; ba: 0.464, eo:0.542\n"
          ]
        }
      ],
      "source": [
        "# Evaluation over different numbers of top features\n",
        "n_features = [10, 15, 20, 25, 30, 35, 40, 45, 50, 88]\n",
        "results = []\n",
        "\n",
        "ids_test = test_data['participant_id']\n",
        "genders_test = test_data['Gender']\n",
        "\n",
        "for n in n_features:\n",
        "    selected_features = features_ranked[:n]\n",
        "    selected_feature_indices = [feature_names.get_loc(name) for name in selected_features]\n",
        "    rf_best.fit(X_train[:, selected_feature_indices], y_train)\n",
        "    y_pred = rf_best.predict(X_test[:, selected_feature_indices])\n",
        "\n",
        "    y_pred_aggregated = aggregate_predictions(y_pred, ids_test, genders_test)\n",
        "    y_test_aggregated = aggregate_predictions(y_test.values, ids_test, genders_test)\n",
        "\n",
        "    acc, ba = evaluate_metrics(y_test_aggregated['prediction'], y_pred_aggregated['prediction'])\n",
        "\n",
        "    mask_and_tpr = calculate_tpr(y_test_aggregated['prediction'], y_pred_aggregated['prediction'])\n",
        "    male_mask_test, female_mask_test, tpr_male_test, tpr_female_test = mask_and_tpr[0], mask_and_tpr[1], mask_and_tpr[2], mask_and_tpr[3]\n",
        "    eo = 1 - abs(tpr_male_test - tpr_female_test)\n",
        "\n",
        "    print(f\"No of features: {n} ; acc: {acc} ; ba: {round(ba,3)}, eo:{round(eo,3)}\")\n",
        "    results.append((n, acc, round(ba,3), round(eo,3)))"
      ]
    },
    {
      "cell_type": "code",
      "execution_count": 42,
      "metadata": {
        "colab": {
          "base_uri": "https://localhost:8080/",
          "height": 487
        },
        "id": "MdOK3xGyEJ_0",
        "outputId": "78dad94b-d5ee-44db-e099-3fd26366c571"
      },
      "outputs": [
        {
          "data": {
            "image/png": "[encoded data removed]",
            "text/plain": [
              "<Figure size 1000x500 with 1 Axes>"
            ]
          },
          "metadata": {},
          "output_type": "display_data"
        }
      ],
      "source": [
        "# Plotting the results\n",
        "results = np.array(results)\n",
        "plt.figure(figsize=(10, 5))\n",
        "plt.plot(results[:, 0], results[:, 1], label='Accuracy')\n",
        "plt.plot(results[:, 0], results[:, 2], label='Balanced Accuracy')\n",
        "plt.plot(results[:, 0], results[:, 3], label='Equality of Opportunity (EO)')\n",
        "plt.xlabel('Number of Features')\n",
        "plt.ylabel('Score')\n",
        "plt.title('Depression Classification Performance')\n",
        "plt.legend()\n",
        "plt.grid(True)\n",
        "plt.show()"
      ]
    }
  ],
  "metadata": {
    "colab": {
      "provenance": []
    },
    "kernelspec": {
      "display_name": "Python 3",
      "name": "python3"
    },
    "language_info": {
      "name": "python"
    }
  },
  "nbformat": 4,
  "nbformat_minor": 0
}
